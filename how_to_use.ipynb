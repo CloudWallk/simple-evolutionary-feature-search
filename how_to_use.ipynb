{
  "nbformat": 4,
  "nbformat_minor": 0,
  "metadata": {
    "colab": {
      "name": "how_to_use.ipynb",
      "provenance": [],
      "collapsed_sections": []
    },
    "kernelspec": {
      "name": "python3",
      "display_name": "Python 3"
    },
    "language_info": {
      "name": "python"
    }
  },
  "cells": [
    {
      "cell_type": "code",
      "metadata": {
        "id": "DVmCTrbwNYh3"
      },
      "source": [
        "#@title Install efs \n",
        "!pip install git+https://github.com/cloudwalk/simple-evolutionary-feature-search.git"
      ],
      "execution_count": null,
      "outputs": []
    },
    {
      "cell_type": "code",
      "metadata": {
        "id": "XM9Ck-_XNjzg"
      },
      "source": [
        "#@title Import efs \n",
        "import evfs\n",
        "from evfs import efs"
      ],
      "execution_count": 13,
      "outputs": []
    },
    {
      "cell_type": "code",
      "metadata": {
        "id": "3-8UbPpQSGSu"
      },
      "source": [
        "#@title Installing the database \n",
        "\n",
        "! wget https://archive.ics.uci.edu/ml/machine-learning-databases/spambase/spambase.data"
      ],
      "execution_count": null,
      "outputs": []
    },
    {
      "cell_type": "code",
      "metadata": {
        "id": "D8JFRHdAl4ba"
      },
      "source": [
        "#@title Import the database \n",
        "import pandas as pd\n",
        "dataset = pd.read_csv('spambase.data', header=None)"
      ],
      "execution_count": 15,
      "outputs": []
    },
    {
      "cell_type": "code",
      "metadata": {
        "id": "e5ngxkJOmBbD"
      },
      "source": [
        "#@title Intialize Features in the database \n",
        "dataset.columns=['word_freq_make', 'word_freq_address', 'word_freq_all', 'word_freq_3d',\n",
        "       'word_freq_our', 'word_freq_over', 'word_freq_remove',\n",
        "       'word_freq_internet', 'word_freq_order', 'word_freq_mail',\n",
        "       'word_freq_receive', 'word_freq_will', 'word_freq_people',\n",
        "       'word_freq_report', 'word_freq_addresses', 'word_freq_free',\n",
        "       'word_freq_business', 'word_freq_email', 'word_freq_you',\n",
        "       'word_freq_credit', 'word_freq_your', 'word_freq_font', 'word_freq_000',\n",
        "       'word_freq_money', 'word_freq_hp', 'word_freq_hpl', 'word_freq_george',\n",
        "       'word_freq_650', 'word_freq_lab', 'word_freq_labs', 'word_freq_telnet',\n",
        "       'word_freq_857', 'word_freq_data', 'word_freq_415', 'word_freq_85',\n",
        "       'word_freq_technology', 'word_freq_1999', 'word_freq_parts',\n",
        "       'word_freq_pm', 'word_freq_direct', 'word_freq_cs', 'word_freq_meeting',\n",
        "       'word_freq_original', 'word_freq_project', 'word_freq_re',\n",
        "       'word_freq_edu', 'word_freq_table', 'word_freq_conference',\n",
        "       'char_freq_%3B', 'char_freq_%28', 'char_freq_%5B', 'char_freq_%21',\n",
        "       'char_freq_%24', 'char_freq_%23', 'capital_run_length_average',\n",
        "       'capital_run_length_longest', 'capital_run_length_total', 'class']\n",
        "labels=dataset[\"class\"]\n",
        "dataset=dataset.drop([\"class\"],axis=1)"
      ],
      "execution_count": 16,
      "outputs": []
    },
    {
      "cell_type": "code",
      "metadata": {
        "id": "1bPpQL8OogTU"
      },
      "source": [
        "#@title Clean up the database \n",
        "from sklearn.model_selection import train_test_split\n",
        "\n",
        "features=list(dataset.columns)\n",
        "for string in features:\n",
        "     dataset[string]=dataset[string].fillna(dataset[string].mean())\n",
        "        \n",
        "from sklearn.preprocessing import MinMaxScaler\n",
        "scaler = MinMaxScaler()  \n",
        "scaled_values = scaler.fit_transform(dataset) \n",
        "dataset.loc[:,:] = scaled_values\n",
        "x_train,x_test,y_train,y_test= train_test_split(dataset,labels.values,test_size=0.34,shuffle=True,random_state=0)"
      ],
      "execution_count": 19,
      "outputs": []
    },
    {
      "cell_type": "code",
      "metadata": {
        "id": "b_lxECI5m4pU"
      },
      "source": [
        "#@title Define eval function\n",
        "from sklearn.ensemble import AdaBoostClassifier\n",
        "from sklearn.metrics import accuracy_score\n",
        "class evalFunction():\n",
        "    \n",
        "    def __init__(self,features):\n",
        "        self.features=features\n",
        "    \n",
        "    #can_be_changed\n",
        "    def func(self,x_train,x_test,y_train,y_test,gen):\n",
        "        \n",
        "        testModel=AdaBoostClassifier().fit(x_train[self.features],y_train)\n",
        "    \n",
        "        pred=testModel.predict(x_test[self.features])\n",
        "        \n",
        "        scores=accuracy_score(y_test,pred)\n",
        "            \n",
        "        return scores\n",
        "        \n",
        "    "
      ],
      "execution_count": 28,
      "outputs": []
    },
    {
      "cell_type": "code",
      "metadata": {
        "cellView": "form",
        "id": "e74SVqAToGp3"
      },
      "source": [
        "#@title Define variables \n",
        "variables=[x_train,x_test,y_train,y_test]"
      ],
      "execution_count": 25,
      "outputs": []
    },
    {
      "cell_type": "code",
      "metadata": {
        "cellView": "form",
        "id": "6h-Oe0v0onyV"
      },
      "source": [
        "#@title Intialize EFS\n",
        "test=efs.EvolutionaryFeatureSelector(2,features,\"spambaseResults\",6)"
      ],
      "execution_count": 29,
      "outputs": []
    },
    {
      "cell_type": "code",
      "metadata": {
        "cellView": "form",
        "id": "cZgMpJDHo0x9"
      },
      "source": [
        "%%time\n",
        "#@title Run the EFS\n",
        "bestFeature,winningValue,tracking,vectorFeature,listOfFeatures=test.select_features(variables,evalFunction)"
      ],
      "execution_count": null,
      "outputs": []
    }
  ]
}